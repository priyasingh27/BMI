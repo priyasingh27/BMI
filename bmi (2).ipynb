{
 "cells": [
  {
   "cell_type": "code",
   "execution_count": 3,
   "id": "e20eb144",
   "metadata": {},
   "outputs": [
    {
     "name": "stdout",
     "output_type": "stream",
     "text": [
      "Height of people [1.4945 1.5925 1.5435 1.6905 1.715  1.7885 1.666  1.568  1.5435 1.519\n",
      " 1.617 ]\n",
      "\n",
      "Weight of people [45.   90.   72.   81.   63.   69.75 74.25 77.4  81.   90.   75.6 ]\n",
      "\n",
      "BMI of people\n",
      " [20.1474773  35.48817184 30.22172356 28.3435777  21.41964658 21.80551373\n",
      " 26.75139684 31.48102353 33.99943901 39.0055999  28.91357251]\n",
      "\n",
      "\n",
      "Index of people having BMI lower than 21 (array([0]),)\n",
      "\n",
      "\n",
      "No of people having BMI less than 21\n",
      " 1\n",
      "\n",
      "\n",
      "Mean of BMI's is 28.870649318402183\n",
      "\n",
      "\n",
      "Standard Deviation of the BMI's is\n",
      " 5.7820329659497105\n"
     ]
    }
   ],
   "source": [
    "import numpy as np\n",
    "height_inches=np.array([61,65,63,69,70,73,68,64,63,62,66]) \n",
    "weight_pounds= np.array([100, 200, 160, 180,140, 155, 165, 172,180, 200,168])\n",
    "\n",
    "height_meter= np.array(0.0245*height_inches)\n",
    "weight_kg=np.array(0.45*weight_pounds)\n",
    "\n",
    "BMI= np.array(weight_kg/(height_meter**2))\n",
    "\n",
    "print(\"Height of people\" ,height_meter) \n",
    "print(\"\\nWeight of people\", weight_kg)\n",
    "#BMI OF PEOPLE\n",
    "print(\"\\nBMI of people\\n\",BMI)\n",
    "\n",
    "#counting the no of people whose BMI is lower than 21 and showing the count and index\n",
    "\n",
    "BMI_lessthan_21=np.where(BMI<21)\n",
    "\n",
    "print(\"\\n\\nIndex of people having BMI lower than 21\",BMI_lessthan_21)\n",
    "\n",
    "\n",
    "\n",
    "count=len(BMI_lessthan_21)\n",
    "print(\"\\n\\nNo of people having BMI less than 21\\n\",count)\n",
    "\n",
    "\n",
    "\n",
    "#calculating the mean and printing the same\n",
    "Mean =np.average(BMI)\n",
    "print(\"\\n\\nMean of BMI's is\", Mean)\n",
    "\n",
    "\n",
    "\n",
    "#calculating the standard deviation and printing the same\n",
    "\n",
    "\n",
    "Stardard_daviation=np.std (BMI)\n",
    "print(\"\\n\\nStandard Deviation of the BMI's is\\n\",Stardard_daviation)\n",
    "\n",
    "\n",
    "\n",
    "\n"
   ]
  },
  {
   "cell_type": "code",
   "execution_count": null,
   "id": "cd406e07",
   "metadata": {},
   "outputs": [],
   "source": []
  }
 ],
 "metadata": {
  "kernelspec": {
   "display_name": "Python 3",
   "language": "python",
   "name": "python3"
  },
  "language_info": {
   "codemirror_mode": {
    "name": "ipython",
    "version": 3
   },
   "file_extension": ".py",
   "mimetype": "text/x-python",
   "name": "python",
   "nbconvert_exporter": "python",
   "pygments_lexer": "ipython3",
   "version": "3.6.13"
  }
 },
 "nbformat": 4,
 "nbformat_minor": 5
}
